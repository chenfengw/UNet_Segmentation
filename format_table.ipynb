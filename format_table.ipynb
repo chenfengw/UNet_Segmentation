{
 "cells": [
  {
   "cell_type": "code",
   "execution_count": 1,
   "metadata": {},
   "outputs": [],
   "source": [
    "import numpy as np"
   ]
  },
  {
   "cell_type": "code",
   "execution_count": 2,
   "metadata": {},
   "outputs": [
    {
     "data": {
      "text/plain": [
       "'/home/chw357/cse252d/cse252d_hw3/Segmentation'"
      ]
     },
     "execution_count": 2,
     "metadata": {},
     "output_type": "execute_result"
    }
   ],
   "source": [
    "pwd"
   ]
  },
  {
   "cell_type": "code",
   "execution_count": 13,
   "metadata": {},
   "outputs": [],
   "source": [
    "file_name = [\"test\",\"test_dilation\",\"test_spp\"]\n",
    "data_all = []\n",
    "for file in file_name:\n",
    "    data_all.append(np.load(f\"{file}/accuracy_100.npy\"))"
   ]
  },
  {
   "cell_type": "code",
   "execution_count": 14,
   "metadata": {},
   "outputs": [],
   "source": [
    "data_all_new = np.array(data_all).T"
   ]
  },
  {
   "cell_type": "code",
   "execution_count": 24,
   "metadata": {},
   "outputs": [
    {
     "name": "stdout",
     "output_type": "stream",
     "text": [
      "class_0| 88.344| 88.798 | 87.693\n",
      "class_1| 62.029| 68.246 | 69.541\n",
      "class_2| 40.748| 46.652 | 39.747\n",
      "class_3| 43.905| 42.988 | 40.677\n",
      "class_4| 33.379| 39.225 | 34.799\n",
      "class_5| 31.942| 33.789 | 31.858\n",
      "class_6| 63.776| 62.690 | 69.799\n",
      "class_7| 63.798| 55.148 | 55.688\n",
      "class_8| 56.198| 54.462 | 42.995\n",
      "class_9| 16.452| 16.671 | 13.750\n",
      "class_10| 33.905| 32.777 | 48.872\n",
      "class_11| 29.649| 29.333 | 36.456\n",
      "class_12| 41.450| 43.557 | 26.315\n",
      "class_13| 39.817| 35.576 | 32.586\n",
      "class_14| 54.016| 57.910 | 57.604\n",
      "class_15| 64.904| 67.516 | 67.026\n",
      "class_16| 36.657| 32.642 | 35.091\n",
      "class_17| 42.085| 49.564 | 40.449\n",
      "class_18| 22.395| 22.079 | 20.693\n",
      "class_19| 41.320| 43.630 | 37.998\n",
      "class_20| 0.000| 0.000 | 0.000\n"
     ]
    }
   ],
   "source": [
    "for idx, (a,b,c) in enumerate(data_all_new):\n",
    "    print(f\"class_{idx}| {a:.3f}| {b:.3f} | {c:.3f}\")"
   ]
  },
  {
   "cell_type": "code",
   "execution_count": 20,
   "metadata": {},
   "outputs": [
    {
     "name": "stdout",
     "output_type": "stream",
     "text": [
      "[88.34366 88.79844 87.69319]\n"
     ]
    }
   ],
   "source": [
    "print(str(data_all_new[0]))"
   ]
  },
  {
   "cell_type": "code",
   "execution_count": null,
   "metadata": {},
   "outputs": [],
   "source": []
  }
 ],
 "metadata": {
  "kernelspec": {
   "display_name": "Python 3",
   "language": "python",
   "name": "python3"
  },
  "language_info": {
   "codemirror_mode": {
    "name": "ipython",
    "version": 3
   },
   "file_extension": ".py",
   "mimetype": "text/x-python",
   "name": "python",
   "nbconvert_exporter": "python",
   "pygments_lexer": "ipython3",
   "version": "3.7.3"
  }
 },
 "nbformat": 4,
 "nbformat_minor": 2
}
